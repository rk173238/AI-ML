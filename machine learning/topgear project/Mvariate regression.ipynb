{
 "cells": [
  {
   "cell_type": "code",
   "execution_count": 96,
   "metadata": {},
   "outputs": [],
   "source": [
    "import pandas as pd\n",
    "import numpy as np\n",
    "import matplotlib.pyplot as plt"
   ]
  },
  {
   "cell_type": "code",
   "execution_count": 97,
   "metadata": {},
   "outputs": [],
   "source": [
    "df = pd.read_excel('C:/Users/RO361326/scikit_learn_data/mldata/data.xlsx')\n",
    "df.columns = [['mpg','cylinder','disp','hp','weight','acc','year','origin','name']]\n"
   ]
  },
  {
   "cell_type": "code",
   "execution_count": 98,
   "metadata": {},
   "outputs": [
    {
     "data": {
      "text/html": [
       "<div>\n",
       "<style scoped>\n",
       "    .dataframe tbody tr th:only-of-type {\n",
       "        vertical-align: middle;\n",
       "    }\n",
       "\n",
       "    .dataframe tbody tr th {\n",
       "        vertical-align: top;\n",
       "    }\n",
       "\n",
       "    .dataframe thead tr th {\n",
       "        text-align: left;\n",
       "    }\n",
       "</style>\n",
       "<table border=\"1\" class=\"dataframe\">\n",
       "  <thead>\n",
       "    <tr>\n",
       "      <th></th>\n",
       "      <th>mpg</th>\n",
       "      <th>cylinder</th>\n",
       "      <th>disp</th>\n",
       "      <th>hp</th>\n",
       "      <th>weight</th>\n",
       "      <th>acc</th>\n",
       "      <th>year</th>\n",
       "    </tr>\n",
       "  </thead>\n",
       "  <tbody>\n",
       "    <tr>\n",
       "      <th>0</th>\n",
       "      <td>15.0</td>\n",
       "      <td>8</td>\n",
       "      <td>350.0</td>\n",
       "      <td>165</td>\n",
       "      <td>3693</td>\n",
       "      <td>11.5</td>\n",
       "      <td>70</td>\n",
       "    </tr>\n",
       "    <tr>\n",
       "      <th>1</th>\n",
       "      <td>18.0</td>\n",
       "      <td>8</td>\n",
       "      <td>318.0</td>\n",
       "      <td>150</td>\n",
       "      <td>3436</td>\n",
       "      <td>11.0</td>\n",
       "      <td>70</td>\n",
       "    </tr>\n",
       "    <tr>\n",
       "      <th>2</th>\n",
       "      <td>16.0</td>\n",
       "      <td>8</td>\n",
       "      <td>304.0</td>\n",
       "      <td>150</td>\n",
       "      <td>3433</td>\n",
       "      <td>12.0</td>\n",
       "      <td>70</td>\n",
       "    </tr>\n",
       "    <tr>\n",
       "      <th>3</th>\n",
       "      <td>17.0</td>\n",
       "      <td>8</td>\n",
       "      <td>302.0</td>\n",
       "      <td>140</td>\n",
       "      <td>3449</td>\n",
       "      <td>10.5</td>\n",
       "      <td>70</td>\n",
       "    </tr>\n",
       "    <tr>\n",
       "      <th>4</th>\n",
       "      <td>15.0</td>\n",
       "      <td>8</td>\n",
       "      <td>429.0</td>\n",
       "      <td>198</td>\n",
       "      <td>4341</td>\n",
       "      <td>10.0</td>\n",
       "      <td>70</td>\n",
       "    </tr>\n",
       "  </tbody>\n",
       "</table>\n",
       "</div>"
      ],
      "text/plain": [
       "    mpg cylinder   disp   hp weight   acc year\n",
       "0  15.0        8  350.0  165   3693  11.5   70\n",
       "1  18.0        8  318.0  150   3436  11.0   70\n",
       "2  16.0        8  304.0  150   3433  12.0   70\n",
       "3  17.0        8  302.0  140   3449  10.5   70\n",
       "4  15.0        8  429.0  198   4341  10.0   70"
      ]
     },
     "execution_count": 98,
     "metadata": {},
     "output_type": "execute_result"
    }
   ],
   "source": [
    "df = df.iloc[:,:-2]\n",
    "df.head()"
   ]
  },
  {
   "cell_type": "code",
   "execution_count": 99,
   "metadata": {},
   "outputs": [],
   "source": [
    "df= df.drop(df['hp'],axis = 1)\n",
    "df = df[['mpg','acc']]"
   ]
  },
  {
   "cell_type": "code",
   "execution_count": 100,
   "metadata": {},
   "outputs": [],
   "source": [
    "def compute_error(m,c,points):\n",
    "    totalerror=0\n",
    "    for i in range(0,len(points)):\n",
    "        x = points[i,2]\n",
    "        y = points[i,1]\n",
    "        totalerror +=(y-(m * x + c)) ** 2\n",
    "        \n",
    "    return totalerror/float(len(points))"
   ]
  },
  {
   "cell_type": "code",
   "execution_count": 101,
   "metadata": {},
   "outputs": [],
   "source": [
    "def step_gradient(m_curr,c_curr,points,learning_rate):\n",
    "    m_grad = 0\n",
    "    c_grad = 0\n",
    "    n = float(len(points))\n",
    "    for i in range(0,len(points)):\n",
    "        x = points[i,2]\n",
    "        y = points[i,1]\n",
    "        m_grad += (2/n) * (y - (m_curr * x + c_curr)) * (-x)\n",
    "        c_grad += (2/n) * (y - (m_curr * x + c_curr)) * (-1)\n",
    "    \n",
    "    m_new = m_curr - (learning_rate * m_grad)\n",
    "    c_new = c_curr - (learning_rate * c_grad)\n",
    "    return(m_new,c_new)"
   ]
  },
  {
   "cell_type": "code",
   "execution_count": 102,
   "metadata": {},
   "outputs": [],
   "source": [
    "def gradient_iterate(m_start,c_start,points, interations, learning_rate):\n",
    "    m = m_start\n",
    "    c = c_start\n",
    "    for i in range(interations):\n",
    "        m, c=step_gradient(m,c,points,learning_rate)\n",
    "        \n",
    "    return (m,c)"
   ]
  },
  {
   "cell_type": "code",
   "execution_count": 103,
   "metadata": {},
   "outputs": [],
   "source": [
    "points = df.reset_index().values"
   ]
  },
  {
   "cell_type": "code",
   "execution_count": 104,
   "metadata": {},
   "outputs": [],
   "source": [
    "iterations = 1000\n",
    "m_initial = 0\n",
    "c_initial = 0\n",
    "learning_rate = 0.0001"
   ]
  },
  {
   "cell_type": "code",
   "execution_count": 105,
   "metadata": {},
   "outputs": [
    {
     "name": "stdout",
     "output_type": "stream",
     "text": [
      "Starting gradient descent at m = 0, c=0 and error 614.6014105793452\n"
     ]
    }
   ],
   "source": [
    "print(\"Starting gradient descent at m = {0}, c={1} and error {2}\".format(m_initial,c_initial,compute_error(m_initial,c_initial,points)))"
   ]
  },
  {
   "cell_type": "code",
   "execution_count": 106,
   "metadata": {},
   "outputs": [
    {
     "name": "stdout",
     "output_type": "stream",
     "text": [
      "After 1000 iterations m =1.493153758578078,c=0.12255607865068387 and error =51.01343375237548\n"
     ]
    }
   ],
   "source": [
    "[m,c] = gradient_iterate(m_initial,c_initial,points,iterations,learning_rate)\n",
    "print(\"After {0} iterations m ={1},c={2} and error ={3}\".format(iterations,m,c,compute_error(m,c,points)))"
   ]
  },
  {
   "cell_type": "code",
   "execution_count": 107,
   "metadata": {},
   "outputs": [],
   "source": [
    "pred_mpg = 1.4920263083109613 * df.acc + 0.12118747836636236"
   ]
  },
  {
   "cell_type": "code",
   "execution_count": 111,
   "metadata": {},
   "outputs": [
    {
     "data": {
      "image/png": "[encoded data removed]",
      "text/plain": [
       "<Figure size 432x288 with 1 Axes>"
      ]
     },
     "metadata": {
      "needs_background": "light"
     },
     "output_type": "display_data"
    }
   ],
   "source": [
    "#plot\n",
    "for i in range(0,len(points)):\n",
    "    x = points[i,1]\n",
    "    y = points[i,0]\n",
    "    plt.scatter(x,y,color='red')\n",
    "    \n",
    "    #plt.plot(df.acc,(1.4920263083109613 * df.acc + 0.12118747836636236),color = 'black',linewidth=7)"
   ]
  },
  {
   "cell_type": "code",
   "execution_count": null,
   "metadata": {},
   "outputs": [],
   "source": []
  }
 ],
 "metadata": {
  "kernelspec": {
   "display_name": "Python 3",
   "language": "python",
   "name": "python3"
  },
  "language_info": {
   "codemirror_mode": {
    "name": "ipython",
    "version": 3
   },
   "file_extension": ".py",
   "mimetype": "text/x-python",
   "name": "python",
   "nbconvert_exporter": "python",
   "pygments_lexer": "ipython3",
   "version": "3.7.1"
  }
 },
 "nbformat": 4,
 "nbformat_minor": 2
}
